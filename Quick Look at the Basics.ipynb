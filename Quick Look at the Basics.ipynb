{
 "cells": [
  {
   "cell_type": "markdown",
   "id": "minus-savannah",
   "metadata": {},
   "source": [
    "# Coding with Python: A Quick Look at the Basics\n",
    "\n",
    "To get started working with Python, you need to have an understanding of the basic building blocks of a script or program. Through this workbook, we will introduce some fundamental programming concepts that are important for any programming language, and how they look in Python.\n",
    "\n",
    "## Comments\n",
    "Throughout the following code, you will see lines called *comments*, which begin with a `#` symbol. These lines provide important and useful context and information to a reader about what's going on in the code at that point. **They are ignored by the interpreter** and will not be run. You can also put a comment on the same line as code (at the end) and the interpreter will ignore anything *after* the `#` symbol.\n",
    "\n",
    "## Variables\n",
    "In Python, much like with other languages, information (data) is stored in 'containers' called *variables*. These variables can hold a single piece of data (a number, word, etc) or a collection of information. You put data into variables using `my_variable = ???`. Here, we'll put the number 2 into a variable called `travis`, and then have the notebook display the value of that variable."
   ]
  },
  {
   "cell_type": "code",
   "execution_count": null,
   "id": "stuck-beginning",
   "metadata": {},
   "outputs": [],
   "source": [
    "# Assigning our first variable (and reading our first comment!)\n",
    "travis = 2\n",
    "travis"
   ]
  },
  {
   "cell_type": "markdown",
   "id": "integral-resource",
   "metadata": {},
   "source": [
    "## Data Types\n",
    "As you know, data comes in many flavours. When we talk about different flavours of data in Python, we use the key term `type` to describe that data. Data comes in many differen forms, which we can roughly divide into the following rough categories:\n",
    "* Numbers (integers, floating-point decimal numbers, complex)\n",
    "* Strings (letters, words)\n",
    "* Booleans (True/False)\n",
    "* Data structures (lists, dictionaries, classes)\n",
    "\n",
    "One of the things that Python features is *dynamic typing*, which means you are allowed to put **different types of data into the same container name**. Other languages require that you declare what type of data goes in a container when you first create it. Can you think of some possible reasons why this might be good, and might be problematic?"
   ]
  },
  {
   "cell_type": "code",
   "execution_count": null,
   "id": "metallic-brief",
   "metadata": {},
   "outputs": [],
   "source": [
    "justin = 1 # justin is holding an integer\n",
    "griffin = '3' # griffin is holding a string with the letter 3"
   ]
  },
  {
   "cell_type": "markdown",
   "id": "weird-difficulty",
   "metadata": {},
   "source": [
    "In the cell below, try adding `justin` and `griffin` together."
   ]
  },
  {
   "cell_type": "code",
   "execution_count": null,
   "id": "maritime-colorado",
   "metadata": {},
   "outputs": [],
   "source": [
    "griffin + justin\n",
    "# Uh oh, we can't add a number to a letter! Comment the above line and uncomment the line below\n",
    "# int(griffin) + justin"
   ]
  },
  {
   "cell_type": "markdown",
   "id": "russian-shirt",
   "metadata": {},
   "source": [
    "### Workspace\n",
    "Use the space below to play with different data types and variables. Some things to try:\n",
    "* Multiply a word (string) by an integer. What about by a float? (3.2 for example).\n",
    "* Use the `type(my_varaible)` command to see what type of data is currently in the variable container."
   ]
  },
  {
   "cell_type": "code",
   "execution_count": null,
   "id": "innocent-workplace",
   "metadata": {},
   "outputs": [],
   "source": []
  },
  {
   "cell_type": "markdown",
   "id": "presidential-assumption",
   "metadata": {},
   "source": [
    "## Making Decisions: If/Elif/Else\n",
    "One of the fundamental instructions you'll want a program to do is to make a decision of what to do based on some criteria. In these cases, you can use `if` statements:\n",
    "* `if` will run the associated code *anytime* the condition you specify is true.\n",
    "* `elif` (portmanteau of `else` and `if`) will run the associated code if the condition you specify is true *and* all `if` or `elif` conditions above it were false.\n",
    "* `else` will run the associated code all of the `if` and `elif` conditions above it were false. It's a catch-all statement.\n",
    "\n",
    "But what do we mean by *associated code*? Let's have a look:"
   ]
  },
  {
   "cell_type": "code",
   "execution_count": null,
   "id": "fatty-atlanta",
   "metadata": {},
   "outputs": [],
   "source": [
    "big_number = 102\n",
    "small_number = 2\n",
    "if big_number > small_number: # This is the condition. Note the colon (:) at the end of the line\n",
    "    print(\"The universe makes sense\") # This is the 'associated code'. Note the indentation\n",
    "elif small_number > big_number:\n",
    "    print(\"Something is wrong!\")\n",
    "else:\n",
    "    print(\"The numbers are equal\")"
   ]
  },
  {
   "cell_type": "markdown",
   "id": "gothic-indication",
   "metadata": {},
   "source": [
    "## Indentation and Scope\n",
    "Like most programming languages, Python files, workbooks, or command line inputs are just a set of instructions for the computer to follow (and they will follow them literally, the exact same way every time). In order to divide up our code into smaller pieces that we may want to run multiple times, or gatekeep behind a certain set of criteria, we use indentation. While Python is pretty good at interpreting indentation levels if they are consistent, save yourself some trouble and **always indent with four (4) spaces**, not tabs, or two spaces, or anything else. Four spaces.\n",
    "\n",
    "When we indent code, we are doing what's called *changing scope*. That means the code in the *narrower* scope doesn't always have access to the information outside of its current scope. Python's use of scope is more fluid than other programming languages, but it's something to be aware of, especially if you re-use variable names or placeholders.\n",
    "\n",
    "## Loops: Run the same code again and again\n",
    "In many cases, we want to run the same set of instructions multipe times. For example, we want to add some values together, then check if they are at a certain threshold, then do something if that's true, and if not add some more numbers to them. To run the same set of code over and over again we use *loops*. There are two types of loops you can use in Python: `while` loops and `for` loops. You can do everything you need to do with `for` loops, so we'll focus on them.\n",
    "\n",
    "The first thing a `for` loop needs is a set of instructions for how many times to run. In Python, this is done by *iterating* through a collection of objects. We can provide the set of objects ourselves, or we can use some handy tools to generate these collections programatically. Let's have a look at both:"
   ]
  },
  {
   "cell_type": "code",
   "execution_count": null,
   "id": "defined-holmes",
   "metadata": {},
   "outputs": [],
   "source": [
    "# Let's create a list of things to iterate through:\n",
    "brothers = ['Justin', 'Travis', 'Griffin']\n",
    "ages = ['oldest', 'middlest', 'babiest']\n",
    "\n",
    "for brother in brothers:\n",
    "    print(f\"Introducing {brother}!\")\n",
    "\n",
    "for x in range(3):\n",
    "    print(x)\n",
    "\n",
    "for i in range(len(brothers)):\n",
    "    print(f\"I'm your {ages[i]} brother {brothers[i]} !\")"
   ]
  },
  {
   "cell_type": "markdown",
   "id": "charitable-struggle",
   "metadata": {},
   "source": [
    "## Functions/Methods: Organize your code into coherent groups\n",
    "With loops and `if` statements you can do pretty much anything you might need, but as your projects get more complicated, you may find yourself wanting to run the same piece of code again and again in different places in your work. To make this easier for yourself (copy-pasting code is possible, but what if you want to go back and change something everywhere you pasted?) you can use *functions*. \n",
    "\n",
    "Functions are a stand-alone set of code that sits outside of your main script or set of instructions. To run, it needs to be *called* by your main code. In many cases, your functions may need some data or information about the current state of things, and so we often have to pass *arguments* to Python functions. These functions then do some computing, and (may) *return* something back to the place it was called from. We delcare a function using the `def` command. Let's take a look:"
   ]
  },
  {
   "cell_type": "code",
   "execution_count": null,
   "id": "amended-bobby",
   "metadata": {},
   "outputs": [],
   "source": [
    "# Here's the function definition\n",
    "def check_for_brothers(brother_name, brother_list): # This function takes two arguments, in the defined sequence. Note the colon (:) to define scope change\n",
    "    if brother_name in brother_list:\n",
    "        return True\n",
    "    else:\n",
    "        return False\n",
    "\n",
    "# Let's set up some information and do a check! Try changing the list and the brother_name argument passed to the list.\n",
    "brother_list = ['Justin', 'Travis', 'Griffin']\n",
    "check_for_brothers('Lin-Manuel', brother_list)"
   ]
  },
  {
   "cell_type": "markdown",
   "id": "serial-browser",
   "metadata": {},
   "source": [
    "## Modules\n",
    "Modules are libraries of code that other people have written that allow you to do all kinds of powerful things. We add them to our available space with the `import` command. Here's some examples:"
   ]
  },
  {
   "cell_type": "code",
   "execution_count": null,
   "id": "alpha-routine",
   "metadata": {},
   "outputs": [],
   "source": [
    "# Uncomment to see what happens when you try to import something you don't have installed\n",
    "# import xkcd\n",
    "import math\n",
    "import pandas as pd\n",
    "from gtfslite.gtfs import GTFS"
   ]
  }
 ],
 "metadata": {
  "kernelspec": {
   "display_name": "Python 3",
   "language": "python",
   "name": "python3"
  },
  "language_info": {
   "codemirror_mode": {
    "name": "ipython",
    "version": 3
   },
   "file_extension": ".py",
   "mimetype": "text/x-python",
   "name": "python",
   "nbconvert_exporter": "python",
   "pygments_lexer": "ipython3",
   "version": "3.9.2"
  }
 },
 "nbformat": 4,
 "nbformat_minor": 5
}

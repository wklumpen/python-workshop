{
 "cells": [
  {
   "cell_type": "markdown",
   "id": "corresponding-restaurant",
   "metadata": {},
   "source": [
    "# Altair: Your Paper's Best Friend\n",
    "There are a number of modules and packages that help you create charts and graphs and other visualizations in Python. Some popular ones include:\n",
    "  * Matplotlib\n",
    "  * Seaborn (sits on top of Matplotlib)\n",
    "  * Bokeh\n",
    "  * Altair\n",
    "  \n",
    "I have used a number of different approaches, and I've found Altair to be the most intuitive, quick to use, and aesthetically pleasing. So that's what we'll introduce today."
   ]
  },
  {
   "cell_type": "code",
   "execution_count": null,
   "id": "simplified-alexander",
   "metadata": {},
   "outputs": [],
   "source": [
    "import pandas as pd\n",
    "import altair as alt\n",
    "import numpy as np"
   ]
  },
  {
   "cell_type": "markdown",
   "id": "demanding-gardening",
   "metadata": {},
   "source": [
    "<img src=\"excellence.jpg\">\n",
    "\n",
    "## Five Principles\n",
    "Within reason:\n",
    "\n",
    "1. Above all else show the data\n",
    "2. Maximize your data-ink ratio\n",
    "3. Erase non-data ink\n",
    "4. Erase redundant data ink\n",
    "5. Revise and edit"
   ]
  },
  {
   "cell_type": "markdown",
   "id": "authorized-booking",
   "metadata": {},
   "source": [
    "## Visualizing VIA Reliability on the Kitchener Corridor\n",
    "Using the outputs we created in the Pandas tutorial, we are going to produce some visualizations and summaries that help us communicate reliability on the Kitchener Corridor portion of the VIA Rail network. Let's load our data now\n",
    "\n",
    "\n",
    "\n",
    "\n"
   ]
  },
  {
   "cell_type": "code",
   "execution_count": null,
   "id": "thousand-abortion",
   "metadata": {},
   "outputs": [],
   "source": [
    "otp = pd.read_csv('kitchener_otp.csv')\n",
    "times = pd.read_csv('kitchener_times.csv')"
   ]
  },
  {
   "cell_type": "markdown",
   "id": "statutory-tamil",
   "metadata": {},
   "source": [
    "## Charts, Marks, and Encodings\n",
    "First, let's start with an introduction to Altair's `Chart` object. The `Chart` class holds the basis for creating a chart, and takes a Pandas dataframe as a data source. From there we can make marks, and encode data into channels."
   ]
  },
  {
   "cell_type": "code",
   "execution_count": null,
   "id": "african-samuel",
   "metadata": {},
   "outputs": [],
   "source": [
    "alt.Chart(otp).mark_bar().encode(\n",
    "    alt.X('otp:Q'),\n",
    "    alt.Y('station:N'),\n",
    "    alt.Row('train:N'),\n",
    "    alt.Color('station:N')\n",
    ")"
   ]
  },
  {
   "cell_type": "markdown",
   "id": "advanced-removal",
   "metadata": {},
   "source": [
    "## Example: Station Reliability by Train\n",
    "Let's find an interesting and useful way to show station reliability by train using a much nicer version of a \"box and whiskers\" plot:\n",
    "\n",
    "<img src=\"box_and_whisker.jpg\">\n",
    "\n",
    "Our steps will be as follows:\n",
    "1. Construct a `DataFrame` with the values we need\n",
    "2. Plot each element of the plot (bars and dots) individually\n",
    "3. Combine them together into a plot\n",
    "4. Erase what we don't need"
   ]
  },
  {
   "cell_type": "code",
   "execution_count": null,
   "id": "certified-uncertainty",
   "metadata": {},
   "outputs": [],
   "source": []
  },
  {
   "cell_type": "code",
   "execution_count": null,
   "id": "killing-found",
   "metadata": {},
   "outputs": [],
   "source": []
  }
 ],
 "metadata": {
  "kernelspec": {
   "display_name": "Python 3",
   "language": "python",
   "name": "python3"
  },
  "language_info": {
   "codemirror_mode": {
    "name": "ipython",
    "version": 3
   },
   "file_extension": ".py",
   "mimetype": "text/x-python",
   "name": "python",
   "nbconvert_exporter": "python",
   "pygments_lexer": "ipython3",
   "version": "3.9.2"
  }
 },
 "nbformat": 4,
 "nbformat_minor": 5
}

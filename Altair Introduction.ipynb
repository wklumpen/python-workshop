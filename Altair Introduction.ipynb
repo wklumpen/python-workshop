{
 "cells": [
  {
   "cell_type": "markdown",
   "id": "funny-completion",
   "metadata": {},
   "source": [
    "# Altair: Your Paper's Best Friend\n",
    "There are a number of modules and packages that help you create charts and graphs and other visualizations in Python. Some popular ones include:\n",
    "  * Matplotlib\n",
    "  * Seaborn (sits on top of Matplotlib)\n",
    "  * Bokeh\n",
    "  * Altair\n",
    "  \n",
    "I have used a number of different approaches, and I've found Altair to be the most intuitive, quick to use, and aesthetically pleasing. So that's what we'll introduce today."
   ]
  },
  {
   "cell_type": "code",
   "execution_count": null,
   "id": "entertaining-magnet",
   "metadata": {},
   "outputs": [],
   "source": [
    "import pandas as pd\n",
    "import altair as alt\n",
    "import numpy as np"
   ]
  },
  {
   "cell_type": "markdown",
   "id": "endangered-pickup",
   "metadata": {},
   "source": [
    "<img src=\"excellence.jpg\">\n",
    "\n",
    "## Five Principles\n",
    "Within reason:\n",
    "\n",
    "1. Above all else show the data\n",
    "2. Maximize your data-ink ratio\n",
    "3. Erase non-data ink\n",
    "4. Erase redundant data ink\n",
    "5. Revise and edit"
   ]
  },
  {
   "cell_type": "markdown",
   "id": "through-andorra",
   "metadata": {},
   "source": [
    "## Visualizing VIA Reliability on the Kitchener Corridor\n",
    "Using the outputs we created in the Pandas tutorial, we are going to produce some visualizations and summaries that help us communicate reliability on the Kitchener Corridor portion of the VIA Rail network. Let's load our data now\n",
    "\n",
    "\n",
    "\n",
    "\n"
   ]
  },
  {
   "cell_type": "code",
   "execution_count": null,
   "id": "adequate-hampshire",
   "metadata": {},
   "outputs": [],
   "source": [
    "otp = pd.read_csv('kitchener_otp.csv')\n",
    "times = pd.read_csv('kitchener_times.csv')\n",
    "otp"
   ]
  },
  {
   "cell_type": "markdown",
   "id": "light-trademark",
   "metadata": {},
   "source": [
    "## Charts, Marks, and Encodings\n",
    "First, let's start with an introduction to Altair's `Chart` object. The `Chart` class holds the basis for creating a chart, and takes a Pandas dataframe as a data source. From there we can make marks, and encode data into channels."
   ]
  },
  {
   "cell_type": "code",
   "execution_count": null,
   "id": "mounted-polish",
   "metadata": {},
   "outputs": [],
   "source": [
    "alt.Chart(otp).mark_bar().encode(\n",
    "    alt.X('otp:Q', title=\"On-Time Performance (%)\"),\n",
    "    alt.Y('station:N', title=\"\"),\n",
    "    alt.Row('train:N', title=\"\"),\n",
    "    alt.Color('station:N', legend=None)\n",
    ").properties(\n",
    "    width=800,\n",
    "    height=200,\n",
    "    title='On-Time Performance in the Kitchener Corridor'\n",
    ").configure(\n",
    "    font='Raleway'\n",
    ").configure_axis(\n",
    "    grid=False,\n",
    "    domain=False\n",
    ")"
   ]
  },
  {
   "cell_type": "markdown",
   "id": "included-following",
   "metadata": {},
   "source": [
    "## Example: Station Reliability by Train\n",
    "Let's find an interesting and useful way to show station reliability by train using a much nicer version of a \"box and whiskers\" plot:\n",
    "\n",
    "<img src=\"box_and_whisker.jpg\">\n",
    "\n",
    "Our steps will be as follows:\n",
    "1. Construct a `DataFrame` with the values we need\n",
    "2. Plot each element of the plot (bars and dots) individually\n",
    "3. Combine them together into a plot\n",
    "4. Erase what we don't need"
   ]
  },
  {
   "cell_type": "code",
   "execution_count": null,
   "id": "small-delaware",
   "metadata": {},
   "outputs": [],
   "source": [
    "train = 87\n",
    "quantiles = times[['train', 'prettyname', 'depDelta']].groupby(['train', 'prettyname'], as_index=False).quantile([0.05, 0.25, 0.5, 0.75, 0.95]).reset_index()\n",
    "quantiles.columns = ['id', 'q', 'train' ,'station', 'depDelta']\n",
    "quantiles = quantiles[['q', 'train', 'station', 'depDelta']].pivot(index=['train', 'station'], columns='q', values='depDelta').reset_index()\n",
    "quantiles.columns = ['train', 'station', 'q5', 'q25', 'q50', 'q75', 'q95']\n",
    "quantiles"
   ]
  },
  {
   "cell_type": "code",
   "execution_count": null,
   "id": "sweet-kuwait",
   "metadata": {},
   "outputs": [],
   "source": [
    "plotData = quantiles[quantiles.train == train]\n",
    "\n",
    "# Here we create a dummy dataframe that we can use for the grey area plot that is added via \"area\"\n",
    "bandData = pd.DataFrame({'station': plotData.station.unique(), 'low': -1, 'high': 5})\n",
    "\n",
    "#Sort allows us to specify orders\n",
    "tops = alt.Chart(plotData).mark_bar(width=1, color='#708090').encode(\n",
    "    alt.X('station:N', sort=['Malton', 'Brampton', 'Georgetown', 'Guelph', 'Kitchener', 'Stratford', \"St. Mary's\", 'London', 'Stratford', 'Wyoming'], title=None),\n",
    "    alt.Y('q75:Q', title='Schedule Deviation (min)'),\n",
    "    alt.Y2('q95:Q', title=None)\n",
    ")\n",
    "\n",
    "bottoms = alt.Chart(plotData).mark_bar(width=1, color='#708090').encode(\n",
    "    alt.X('station:N'),\n",
    "    alt.Y('q5:Q'),\n",
    "    alt.Y2('q25:Q')\n",
    ")\n",
    "\n",
    "medians = alt.Chart(plotData).mark_circle(color=\"#f58426\").encode(\n",
    "    alt.X('station:N'),\n",
    "    alt.Y('q50:Q')\n",
    ")\n",
    "\n",
    "area = alt.Chart(bandData).mark_area(fill='#EEEEEE', opacity=0.5).encode(\n",
    "    alt.X('station:N'),\n",
    "    alt.Y('low:Q'),\n",
    "    alt.Y2('high:Q')\n",
    ")\n",
    "\n",
    "(area+tops+bottoms+medians).configure(\n",
    "font='Raleway'\n",
    ").configure_view(\n",
    "strokeWidth=0\n",
    ").configure_axis(\n",
    "grid=False, \n",
    "domain=False\n",
    ").configure_axisX(\n",
    "    labelAngle=0,\n",
    "    tickSize=0\n",
    ").properties(\n",
    "width=1080, \n",
    "height=400, \n",
    "title=f\"VIA Arrival Reliabilities for Train {train} on the Kitchener Corridor\"\n",
    ")\n"
   ]
  },
  {
   "cell_type": "code",
   "execution_count": null,
   "id": "administrative-saint",
   "metadata": {},
   "outputs": [],
   "source": []
  }
 ],
 "metadata": {
  "kernelspec": {
   "display_name": "Python 3",
   "language": "python",
   "name": "python3"
  },
  "language_info": {
   "codemirror_mode": {
    "name": "ipython",
    "version": 3
   },
   "file_extension": ".py",
   "mimetype": "text/x-python",
   "name": "python",
   "nbconvert_exporter": "python",
   "pygments_lexer": "ipython3",
   "version": "3.9.2"
  }
 },
 "nbformat": 4,
 "nbformat_minor": 5
}

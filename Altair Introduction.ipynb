{
 "cells": [
  {
   "cell_type": "markdown",
   "id": "psychological-pregnancy",
   "metadata": {},
   "source": [
    "# Altair: Your Paper's Best Friend\n",
    "There are a number of modules and packages that help you create charts and graphs and other visualizations in Python. Some popular ones include:\n",
    "  * Matplotlib\n",
    "  * Seaborn (sits on top of Matplotlib)\n",
    "  * Bokeh\n",
    "  * Altair\n",
    "  \n",
    "I have used a number of different approaches, and I've found Altair to be the most intuitive, quick to use, and aesthetically pleasing. So that's what we'll introduce today."
   ]
  },
  {
   "cell_type": "code",
   "execution_count": 8,
   "id": "verbal-cargo",
   "metadata": {},
   "outputs": [],
   "source": [
    "import pandas as pd\n",
    "import altair as alt"
   ]
  },
  {
   "cell_type": "markdown",
   "id": "advisory-refrigerator",
   "metadata": {},
   "source": [
    "## Visualizing VIA Reliability on the Kitchener Corridor\n",
    "Using the outputs we created in the Pandas tutorial, we are going to produce some visualizations and summaries that help us communicate reliability on the Kitchener Corridor portion of the VIA Rail network. Let's load our data now\n",
    "\n",
    "\n",
    "\n",
    "\n"
   ]
  },
  {
   "cell_type": "code",
   "execution_count": 9,
   "id": "increasing-genealogy",
   "metadata": {},
   "outputs": [],
   "source": [
    "otp = pd.read_csv('kitchener_otp.csv')\n",
    "times = pd.read_csv('kitchener_times.csv')"
   ]
  },
  {
   "cell_type": "markdown",
   "id": "empirical-campus",
   "metadata": {},
   "source": [
    "## Chart Objects\n",
    "First, let's start with an introduction to Altair's `Chart` object. The `Chart` class holds the basis for creating a chart, and takes a Pandas dataframe as a data source. From there, we can mark "
   ]
  },
  {
   "cell_type": "code",
   "execution_count": 10,
   "id": "interpreted-dakota",
   "metadata": {},
   "outputs": [
    {
     "data": {
      "text/html": [
       "\n",
       "<div id=\"altair-viz-071a0edd459d41ba97841d71a4862b8d\"></div>\n",
       "<script type=\"text/javascript\">\n",
       "  (function(spec, embedOpt){\n",
       "    let outputDiv = document.currentScript.previousElementSibling;\n",
       "    if (outputDiv.id !== \"altair-viz-071a0edd459d41ba97841d71a4862b8d\") {\n",
       "      outputDiv = document.getElementById(\"altair-viz-071a0edd459d41ba97841d71a4862b8d\");\n",
       "    }\n",
       "    const paths = {\n",
       "      \"vega\": \"https://cdn.jsdelivr.net/npm//vega@5?noext\",\n",
       "      \"vega-lib\": \"https://cdn.jsdelivr.net/npm//vega-lib?noext\",\n",
       "      \"vega-lite\": \"https://cdn.jsdelivr.net/npm//vega-lite@4.8.1?noext\",\n",
       "      \"vega-embed\": \"https://cdn.jsdelivr.net/npm//vega-embed@6?noext\",\n",
       "    };\n",
       "\n",
       "    function loadScript(lib) {\n",
       "      return new Promise(function(resolve, reject) {\n",
       "        var s = document.createElement('script');\n",
       "        s.src = paths[lib];\n",
       "        s.async = true;\n",
       "        s.onload = () => resolve(paths[lib]);\n",
       "        s.onerror = () => reject(`Error loading script: ${paths[lib]}`);\n",
       "        document.getElementsByTagName(\"head\")[0].appendChild(s);\n",
       "      });\n",
       "    }\n",
       "\n",
       "    function showError(err) {\n",
       "      outputDiv.innerHTML = `<div class=\"error\" style=\"color:red;\">${err}</div>`;\n",
       "      throw err;\n",
       "    }\n",
       "\n",
       "    function displayChart(vegaEmbed) {\n",
       "      vegaEmbed(outputDiv, spec, embedOpt)\n",
       "        .catch(err => showError(`Javascript Error: ${err.message}<br>This usually means there's a typo in your chart specification. See the javascript console for the full traceback.`));\n",
       "    }\n",
       "\n",
       "    if(typeof define === \"function\" && define.amd) {\n",
       "      requirejs.config({paths});\n",
       "      require([\"vega-embed\"], displayChart, err => showError(`Error loading script: ${err.message}`));\n",
       "    } else if (typeof vegaEmbed === \"function\") {\n",
       "      displayChart(vegaEmbed);\n",
       "    } else {\n",
       "      loadScript(\"vega\")\n",
       "        .then(() => loadScript(\"vega-lite\"))\n",
       "        .then(() => loadScript(\"vega-embed\"))\n",
       "        .catch(showError)\n",
       "        .then(() => displayChart(vegaEmbed));\n",
       "    }\n",
       "  })({\"config\": {\"view\": {\"continuousWidth\": 400, \"continuousHeight\": 300}}, \"data\": {\"name\": \"data-dcf4dbfbe37782496b57bd76a958d241\"}, \"mark\": \"bar\", \"encoding\": {\"row\": {\"type\": \"nominal\", \"field\": \"train\"}, \"x\": {\"type\": \"quantitative\", \"field\": \"otp\"}, \"y\": {\"type\": \"nominal\", \"field\": \"station\"}}, \"$schema\": \"https://vega.github.io/schema/vega-lite/v4.8.1.json\", \"datasets\": {\"data-dcf4dbfbe37782496b57bd76a958d241\": [{\"train\": 84, \"station\": \"Brampton\", \"on_times\": 43, \"all\": 361, \"otp\": 11.911357340720222}, {\"train\": 84, \"station\": \"Georgetown\", \"on_times\": 51, \"all\": 361, \"otp\": 14.12742382271468}, {\"train\": 84, \"station\": \"Guelph\", \"on_times\": 30, \"all\": 362, \"otp\": 8.287292817679559}, {\"train\": 84, \"station\": \"Kitchener\", \"on_times\": 9, \"all\": 362, \"otp\": 2.4861878453038675}, {\"train\": 84, \"station\": \"London\", \"on_times\": 207, \"all\": 361, \"otp\": 57.340720221606645}, {\"train\": 84, \"station\": \"Malton\", \"on_times\": 35, \"all\": 354, \"otp\": 9.887005649717514}, {\"train\": 84, \"station\": \"St. Mary's\", \"on_times\": 158, \"all\": 362, \"otp\": 43.646408839779006}, {\"train\": 84, \"station\": \"Stratford\", \"on_times\": 117, \"all\": 361, \"otp\": 32.40997229916898}, {\"train\": 84, \"station\": \"Strathroy\", \"on_times\": 57, \"all\": 359, \"otp\": 15.877437325905293}, {\"train\": 84, \"station\": \"Wyoming\", \"on_times\": 222, \"all\": 359, \"otp\": 61.83844011142061}, {\"train\": 85, \"station\": \"Brampton\", \"on_times\": 187, \"all\": 362, \"otp\": 51.65745856353591}, {\"train\": 85, \"station\": \"Georgetown\", \"on_times\": 154, \"all\": 357, \"otp\": 43.13725490196079}, {\"train\": 85, \"station\": \"Guelph\", \"on_times\": 118, \"all\": 361, \"otp\": 32.686980609418285}, {\"train\": 85, \"station\": \"Kitchener\", \"on_times\": 136, \"all\": 361, \"otp\": 37.67313019390582}, {\"train\": 85, \"station\": \"Malton\", \"on_times\": 97, \"all\": 357, \"otp\": 27.17086834733893}, {\"train\": 85, \"station\": \"St. Mary's\", \"on_times\": 122, \"all\": 359, \"otp\": 33.98328690807799}, {\"train\": 85, \"station\": \"Stratford\", \"on_times\": 125, \"all\": 360, \"otp\": 34.72222222222222}, {\"train\": 87, \"station\": \"Brampton\", \"on_times\": 236, \"all\": 363, \"otp\": 65.0137741046832}, {\"train\": 87, \"station\": \"Georgetown\", \"on_times\": 190, \"all\": 361, \"otp\": 52.63157894736842}, {\"train\": 87, \"station\": \"Guelph\", \"on_times\": 166, \"all\": 362, \"otp\": 45.85635359116022}, {\"train\": 87, \"station\": \"Kitchener\", \"on_times\": 179, \"all\": 362, \"otp\": 49.447513812154696}, {\"train\": 87, \"station\": \"London\", \"on_times\": 110, \"all\": 361, \"otp\": 30.47091412742382}, {\"train\": 87, \"station\": \"Malton\", \"on_times\": 220, \"all\": 361, \"otp\": 60.94182825484764}, {\"train\": 87, \"station\": \"St. Mary's\", \"on_times\": 149, \"all\": 361, \"otp\": 41.27423822714682}, {\"train\": 87, \"station\": \"Stratford\", \"on_times\": 48, \"all\": 359, \"otp\": 13.370473537604456}, {\"train\": 87, \"station\": \"Strathroy\", \"on_times\": 97, \"all\": 357, \"otp\": 27.17086834733893}, {\"train\": 87, \"station\": \"Wyoming\", \"on_times\": 56, \"all\": 357, \"otp\": 15.68627450980392}, {\"train\": 88, \"station\": \"Brampton\", \"on_times\": 53, \"all\": 359, \"otp\": 14.763231197771589}, {\"train\": 88, \"station\": \"Georgetown\", \"on_times\": 53, \"all\": 355, \"otp\": 14.929577464788732}, {\"train\": 88, \"station\": \"Guelph\", \"on_times\": 39, \"all\": 358, \"otp\": 10.893854748603353}, {\"train\": 88, \"station\": \"Kitchener\", \"on_times\": 3, \"all\": 359, \"otp\": 0.8356545961002786}, {\"train\": 88, \"station\": \"St. Mary's\", \"on_times\": 18, \"all\": 356, \"otp\": 5.056179775280899}, {\"train\": 88, \"station\": \"Stratford\", \"on_times\": 27, \"all\": 360, \"otp\": 7.5}]}}, {\"mode\": \"vega-lite\"});\n",
       "</script>"
      ],
      "text/plain": [
       "alt.Chart(...)"
      ]
     },
     "execution_count": 10,
     "metadata": {},
     "output_type": "execute_result"
    }
   ],
   "source": [
    "alt.Chart(otp).mark_bar().encode(\n",
    "    x='otp:Q',\n",
    "    y='station:N',\n",
    "    row='train:N'\n",
    ")"
   ]
  },
  {
   "cell_type": "code",
   "execution_count": null,
   "id": "ongoing-flush",
   "metadata": {},
   "outputs": [],
   "source": []
  }
 ],
 "metadata": {
  "kernelspec": {
   "display_name": "Python 3",
   "language": "python",
   "name": "python3"
  },
  "language_info": {
   "codemirror_mode": {
    "name": "ipython",
    "version": 3
   },
   "file_extension": ".py",
   "mimetype": "text/x-python",
   "name": "python",
   "nbconvert_exporter": "python",
   "pygments_lexer": "ipython3",
   "version": "3.9.2"
  }
 },
 "nbformat": 4,
 "nbformat_minor": 5
}
